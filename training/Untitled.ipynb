{
 "cells": [
  {
   "cell_type": "code",
   "execution_count": 1,
   "id": "9f759ce8-d3b4-47aa-bf1c-8bec444ea3a1",
   "metadata": {},
   "outputs": [
    {
     "name": "stdout",
     "output_type": "stream",
     "text": [
      "E:\\leaf-deseas\n"
     ]
    }
   ],
   "source": [
    "import os\n",
    "HOME = os.getcwd()\n",
    "print(HOME)"
   ]
  },
  {
   "cell_type": "code",
   "execution_count": null,
   "id": "e91bfd16-f603-449c-af8b-56e1b633ed85",
   "metadata": {},
   "outputs": [],
   "source": [
    "pip install ultralytics"
   ]
  },
  {
   "cell_type": "code",
   "execution_count": null,
   "id": "8afdefd1-e3f5-48cd-865f-19bfbea2463f",
   "metadata": {},
   "outputs": [],
   "source": [
    "!yolo task=segment mode=train model=yolov8n.pt data={dataset.location}/data.yaml epochs=25 imgsz=10395"
   ]
  },
  {
   "cell_type": "code",
   "execution_count": null,
   "id": "9904d3b3-ea9e-42f5-b479-692f64553722",
   "metadata": {},
   "outputs": [],
   "source": []
  },
  {
   "cell_type": "code",
   "execution_count": null,
   "id": "499f510a-ab87-430c-af8d-a4cc1d565200",
   "metadata": {},
   "outputs": [],
   "source": []
  }
 ],
 "metadata": {
  "kernelspec": {
   "display_name": "Python 3 (ipykernel)",
   "language": "python",
   "name": "python3"
  },
  "language_info": {
   "codemirror_mode": {
    "name": "ipython",
    "version": 3
   },
   "file_extension": ".py",
   "mimetype": "text/x-python",
   "name": "python",
   "nbconvert_exporter": "python",
   "pygments_lexer": "ipython3",
   "version": "3.12.6"
  }
 },
 "nbformat": 4,
 "nbformat_minor": 5
}
